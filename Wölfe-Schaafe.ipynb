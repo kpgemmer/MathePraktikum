{
 "cells": [
  {
   "cell_type": "code",
   "execution_count": null,
   "id": "0477819f-bcc7-4167-a06b-743c2b2c911d",
   "metadata": {},
   "outputs": [],
   "source": [
    "import matplotlib.pyplot as plt\n",
    "\n",
    "zeit  = [0]\n",
    "schafe = [300]\n",
    "wölfe = [20]\n",
    "\n",
    "for t in range(1,1000):\n",
    "    zeit.append(t)\n",
    "    schafe.append(schafe[t-1] - 1) # Hier müsst ihr etwas anpassen\n",
    "    wölfe.append(wölfe[t-1] - 1) # Hier müsst ihr etwas anpassen\n",
    "\n",
    "# Daten in Diagramm schreiben\n",
    "plt.plot(zeit, schafe, label=\"Schafe\")\n",
    "plt.plot(zeit, wölfe, label=\"Wölfe\")\n",
    "\n",
    "# Achsenbeschriftungen erstellen\n",
    "plt.xlabel('Zeit (d)')\n",
    "plt.ylabel('Anzahl an Tieren')\n",
    "\n",
    "# Gitter und Legende erstellen lassen\n",
    "plt.grid()\n",
    "plt.legend()\n",
    "\n",
    "# Diagramm erstellen\n",
    "plt.show()\n"
   ]
  }
 ],
 "metadata": {
  "kernelspec": {
   "display_name": "Python 3 (ipykernel)",
   "language": "python",
   "name": "python3"
  },
  "language_info": {
   "codemirror_mode": {
    "name": "ipython",
    "version": 3
   },
   "file_extension": ".py",
   "mimetype": "text/x-python",
   "name": "python",
   "nbconvert_exporter": "python",
   "pygments_lexer": "ipython3",
   "version": "3.11.5"
  }
 },
 "nbformat": 4,
 "nbformat_minor": 5
}
